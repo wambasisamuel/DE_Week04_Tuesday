{
  "nbformat": 4,
  "nbformat_minor": 0,
  "metadata": {
    "colab": {
      "provenance": [],
      "collapsed_sections": [
        "nocqWsTV5UcU"
      ],
      "toc_visible": true
    },
    "kernelspec": {
      "name": "python3",
      "display_name": "Python 3"
    }
  },
  "cells": [
    {
      "cell_type": "markdown",
      "metadata": {
        "id": "y1HW8GjoS7AN"
      },
      "source": [
        "# Model Quality and Improvements"
      ]
    },
    {
      "cell_type": "markdown",
      "metadata": {
        "id": "kLG2VTrnTvYL"
      },
      "source": [
        "## 1. Defining the Question"
      ]
    },
    {
      "cell_type": "markdown",
      "metadata": {
        "id": "XecOwPNorl2W"
      },
      "source": [
        "### a) Data Analysis Question"
      ]
    },
    {
      "cell_type": "markdown",
      "metadata": {
        "id": "pZykmRrbGd13"
      },
      "source": [
        "Can I develop a model that predicts whether a patient will be diagnosed with diabetes."
      ]
    },
    {
      "cell_type": "markdown",
      "metadata": {
        "id": "J4wfHZwQrs-t"
      },
      "source": [
        "### b) Metric for Success"
      ]
    },
    {
      "cell_type": "markdown",
      "metadata": {
        "id": "IuQcoaLFGjkH"
      },
      "source": [
        "The machine learning model should predict whether a patient will be diagnosed with diabetes with an accuracy score greater than 0.85"
      ]
    },
    {
      "cell_type": "markdown",
      "metadata": {
        "id": "a9BPYqunry97"
      },
      "source": [
        "### c) Understanding the context "
      ]
    },
    {
      "cell_type": "markdown",
      "metadata": {
        "id": "2jeqV9VPG1tg"
      },
      "source": [
        "The objective of the dataset is to diagnostically predict whether or not a patient has diabetes, based on certain diagnostic measurements included in the dataset. Several constraints were placed on the selection of these instances from a larger database. In particular, all patients here are females at least 21 years old of Pima Indian heritage."
      ]
    },
    {
      "cell_type": "markdown",
      "metadata": {
        "id": "7KMRBJ7zr9HD"
      },
      "source": [
        "### d) Experimental Design"
      ]
    },
    {
      "cell_type": "markdown",
      "metadata": {
        "id": "YG0dB0_PG5_i"
      },
      "source": [
        "1. Data Importation\n",
        "2. Data Exploration\n",
        "3. Data Cleaning\n",
        "4. Data Preparation\n",
        "5. Data Modeling (Using Decision Trees, Random Forest and Logistic Regression)\n",
        "6. Model Evaluation\n",
        "7. Hyparameter Tuning\n",
        "8. Findings and Recommendations"
      ]
    },
    {
      "cell_type": "markdown",
      "metadata": {
        "id": "zSGyg6kWsBUl"
      },
      "source": [
        "### e) Data Relevance"
      ]
    },
    {
      "cell_type": "markdown",
      "metadata": {
        "id": "UogUWzkTHJ9D"
      },
      "source": [
        "The datasets consists of several medical predictor variables and one target variable, *Outcome*. Predictor variables includes the number of pregnancies the patient has had, plasma glucose concentration, blood pressure, skin thickness, insulin level, BMI, diabetes pedigree function and age."
      ]
    },
    {
      "cell_type": "markdown",
      "metadata": {
        "id": "iUNbvIvnT7ep"
      },
      "source": [
        "## 2. Reading the Data"
      ]
    },
    {
      "cell_type": "code",
      "metadata": {
        "id": "STUSuuyTTBgx"
      },
      "source": [
        "# Importing our libraries\n",
        "import pandas as pd\n",
        "import numpy as np\n",
        "from sklearn.tree import DecisionTreeClassifier\n",
        "from sklearn.ensemble import RandomForestClassifier\n",
        "from sklearn.linear_model import LogisticRegression\n",
        "from sklearn.model_selection import train_test_split"
      ],
      "execution_count": 1,
      "outputs": []
    },
    {
      "cell_type": "code",
      "metadata": {
        "id": "XJn2KjW-WMlG"
      },
      "source": [
        "# Load the data below\n",
        "# --- \n",
        "dataset_url = \"https://raw.githubusercontent.com/wambasisamuel/DE_Week04_Tuesday/main/diabetes2.csv\"\n",
        "df = pd.read_csv(dataset_url) "
      ],
      "execution_count": 2,
      "outputs": []
    },
    {
      "cell_type": "code",
      "metadata": {
        "id": "7168_y8EhZg7",
        "colab": {
          "base_uri": "https://localhost:8080/",
          "height": 206
        },
        "outputId": "87e9d16b-106f-4965-bd33-0679ca784390"
      },
      "source": [
        "# Checking the first 5 rows of data\n",
        "df.head()"
      ],
      "execution_count": 3,
      "outputs": [
        {
          "output_type": "execute_result",
          "data": {
            "text/plain": [
              "   Pregnancies  Glucose  BloodPressure  SkinThickness  Insulin   BMI  \\\n",
              "0            6      148             72             35        0  33.6   \n",
              "1            1       85             66             29        0  26.6   \n",
              "2            8      183             64              0        0  23.3   \n",
              "3            1       89             66             23       94  28.1   \n",
              "4            0      137             40             35      168  43.1   \n",
              "\n",
              "   DiabetesPedigreeFunction  Age  Outcome  \n",
              "0                     0.627   50        1  \n",
              "1                     0.351   31        0  \n",
              "2                     0.672   32        1  \n",
              "3                     0.167   21        0  \n",
              "4                     2.288   33        1  "
            ],
            "text/html": [
              "\n",
              "  <div id=\"df-3d535071-d2cb-4120-abc0-7722b7d03653\">\n",
              "    <div class=\"colab-df-container\">\n",
              "      <div>\n",
              "<style scoped>\n",
              "    .dataframe tbody tr th:only-of-type {\n",
              "        vertical-align: middle;\n",
              "    }\n",
              "\n",
              "    .dataframe tbody tr th {\n",
              "        vertical-align: top;\n",
              "    }\n",
              "\n",
              "    .dataframe thead th {\n",
              "        text-align: right;\n",
              "    }\n",
              "</style>\n",
              "<table border=\"1\" class=\"dataframe\">\n",
              "  <thead>\n",
              "    <tr style=\"text-align: right;\">\n",
              "      <th></th>\n",
              "      <th>Pregnancies</th>\n",
              "      <th>Glucose</th>\n",
              "      <th>BloodPressure</th>\n",
              "      <th>SkinThickness</th>\n",
              "      <th>Insulin</th>\n",
              "      <th>BMI</th>\n",
              "      <th>DiabetesPedigreeFunction</th>\n",
              "      <th>Age</th>\n",
              "      <th>Outcome</th>\n",
              "    </tr>\n",
              "  </thead>\n",
              "  <tbody>\n",
              "    <tr>\n",
              "      <th>0</th>\n",
              "      <td>6</td>\n",
              "      <td>148</td>\n",
              "      <td>72</td>\n",
              "      <td>35</td>\n",
              "      <td>0</td>\n",
              "      <td>33.6</td>\n",
              "      <td>0.627</td>\n",
              "      <td>50</td>\n",
              "      <td>1</td>\n",
              "    </tr>\n",
              "    <tr>\n",
              "      <th>1</th>\n",
              "      <td>1</td>\n",
              "      <td>85</td>\n",
              "      <td>66</td>\n",
              "      <td>29</td>\n",
              "      <td>0</td>\n",
              "      <td>26.6</td>\n",
              "      <td>0.351</td>\n",
              "      <td>31</td>\n",
              "      <td>0</td>\n",
              "    </tr>\n",
              "    <tr>\n",
              "      <th>2</th>\n",
              "      <td>8</td>\n",
              "      <td>183</td>\n",
              "      <td>64</td>\n",
              "      <td>0</td>\n",
              "      <td>0</td>\n",
              "      <td>23.3</td>\n",
              "      <td>0.672</td>\n",
              "      <td>32</td>\n",
              "      <td>1</td>\n",
              "    </tr>\n",
              "    <tr>\n",
              "      <th>3</th>\n",
              "      <td>1</td>\n",
              "      <td>89</td>\n",
              "      <td>66</td>\n",
              "      <td>23</td>\n",
              "      <td>94</td>\n",
              "      <td>28.1</td>\n",
              "      <td>0.167</td>\n",
              "      <td>21</td>\n",
              "      <td>0</td>\n",
              "    </tr>\n",
              "    <tr>\n",
              "      <th>4</th>\n",
              "      <td>0</td>\n",
              "      <td>137</td>\n",
              "      <td>40</td>\n",
              "      <td>35</td>\n",
              "      <td>168</td>\n",
              "      <td>43.1</td>\n",
              "      <td>2.288</td>\n",
              "      <td>33</td>\n",
              "      <td>1</td>\n",
              "    </tr>\n",
              "  </tbody>\n",
              "</table>\n",
              "</div>\n",
              "      <button class=\"colab-df-convert\" onclick=\"convertToInteractive('df-3d535071-d2cb-4120-abc0-7722b7d03653')\"\n",
              "              title=\"Convert this dataframe to an interactive table.\"\n",
              "              style=\"display:none;\">\n",
              "        \n",
              "  <svg xmlns=\"http://www.w3.org/2000/svg\" height=\"24px\"viewBox=\"0 0 24 24\"\n",
              "       width=\"24px\">\n",
              "    <path d=\"M0 0h24v24H0V0z\" fill=\"none\"/>\n",
              "    <path d=\"M18.56 5.44l.94 2.06.94-2.06 2.06-.94-2.06-.94-.94-2.06-.94 2.06-2.06.94zm-11 1L8.5 8.5l.94-2.06 2.06-.94-2.06-.94L8.5 2.5l-.94 2.06-2.06.94zm10 10l.94 2.06.94-2.06 2.06-.94-2.06-.94-.94-2.06-.94 2.06-2.06.94z\"/><path d=\"M17.41 7.96l-1.37-1.37c-.4-.4-.92-.59-1.43-.59-.52 0-1.04.2-1.43.59L10.3 9.45l-7.72 7.72c-.78.78-.78 2.05 0 2.83L4 21.41c.39.39.9.59 1.41.59.51 0 1.02-.2 1.41-.59l7.78-7.78 2.81-2.81c.8-.78.8-2.07 0-2.86zM5.41 20L4 18.59l7.72-7.72 1.47 1.35L5.41 20z\"/>\n",
              "  </svg>\n",
              "      </button>\n",
              "      \n",
              "  <style>\n",
              "    .colab-df-container {\n",
              "      display:flex;\n",
              "      flex-wrap:wrap;\n",
              "      gap: 12px;\n",
              "    }\n",
              "\n",
              "    .colab-df-convert {\n",
              "      background-color: #E8F0FE;\n",
              "      border: none;\n",
              "      border-radius: 50%;\n",
              "      cursor: pointer;\n",
              "      display: none;\n",
              "      fill: #1967D2;\n",
              "      height: 32px;\n",
              "      padding: 0 0 0 0;\n",
              "      width: 32px;\n",
              "    }\n",
              "\n",
              "    .colab-df-convert:hover {\n",
              "      background-color: #E2EBFA;\n",
              "      box-shadow: 0px 1px 2px rgba(60, 64, 67, 0.3), 0px 1px 3px 1px rgba(60, 64, 67, 0.15);\n",
              "      fill: #174EA6;\n",
              "    }\n",
              "\n",
              "    [theme=dark] .colab-df-convert {\n",
              "      background-color: #3B4455;\n",
              "      fill: #D2E3FC;\n",
              "    }\n",
              "\n",
              "    [theme=dark] .colab-df-convert:hover {\n",
              "      background-color: #434B5C;\n",
              "      box-shadow: 0px 1px 3px 1px rgba(0, 0, 0, 0.15);\n",
              "      filter: drop-shadow(0px 1px 2px rgba(0, 0, 0, 0.3));\n",
              "      fill: #FFFFFF;\n",
              "    }\n",
              "  </style>\n",
              "\n",
              "      <script>\n",
              "        const buttonEl =\n",
              "          document.querySelector('#df-3d535071-d2cb-4120-abc0-7722b7d03653 button.colab-df-convert');\n",
              "        buttonEl.style.display =\n",
              "          google.colab.kernel.accessAllowed ? 'block' : 'none';\n",
              "\n",
              "        async function convertToInteractive(key) {\n",
              "          const element = document.querySelector('#df-3d535071-d2cb-4120-abc0-7722b7d03653');\n",
              "          const dataTable =\n",
              "            await google.colab.kernel.invokeFunction('convertToInteractive',\n",
              "                                                     [key], {});\n",
              "          if (!dataTable) return;\n",
              "\n",
              "          const docLinkHtml = 'Like what you see? Visit the ' +\n",
              "            '<a target=\"_blank\" href=https://colab.research.google.com/notebooks/data_table.ipynb>data table notebook</a>'\n",
              "            + ' to learn more about interactive tables.';\n",
              "          element.innerHTML = '';\n",
              "          dataTable['output_type'] = 'display_data';\n",
              "          await google.colab.output.renderOutput(dataTable, element);\n",
              "          const docLink = document.createElement('div');\n",
              "          docLink.innerHTML = docLinkHtml;\n",
              "          element.appendChild(docLink);\n",
              "        }\n",
              "      </script>\n",
              "    </div>\n",
              "  </div>\n",
              "  "
            ]
          },
          "metadata": {},
          "execution_count": 3
        }
      ]
    },
    {
      "cell_type": "code",
      "metadata": {
        "id": "87pOSl5MhcdL",
        "colab": {
          "base_uri": "https://localhost:8080/",
          "height": 206
        },
        "outputId": "df7db7ea-3375-4140-ec81-ef3aa7ca1e38"
      },
      "source": [
        "# Checking the last 5 rows of data\n",
        "# ---\n",
        "df.tail(5)"
      ],
      "execution_count": 4,
      "outputs": [
        {
          "output_type": "execute_result",
          "data": {
            "text/plain": [
              "     Pregnancies  Glucose  BloodPressure  SkinThickness  Insulin   BMI  \\\n",
              "763           10      101             76             48      180  32.9   \n",
              "764            2      122             70             27        0  36.8   \n",
              "765            5      121             72             23      112  26.2   \n",
              "766            1      126             60              0        0  30.1   \n",
              "767            1       93             70             31        0  30.4   \n",
              "\n",
              "     DiabetesPedigreeFunction  Age  Outcome  \n",
              "763                     0.171   63        0  \n",
              "764                     0.340   27        0  \n",
              "765                     0.245   30        0  \n",
              "766                     0.349   47        1  \n",
              "767                     0.315   23        0  "
            ],
            "text/html": [
              "\n",
              "  <div id=\"df-2462c394-59b8-47d9-9f23-9badae7db4c7\">\n",
              "    <div class=\"colab-df-container\">\n",
              "      <div>\n",
              "<style scoped>\n",
              "    .dataframe tbody tr th:only-of-type {\n",
              "        vertical-align: middle;\n",
              "    }\n",
              "\n",
              "    .dataframe tbody tr th {\n",
              "        vertical-align: top;\n",
              "    }\n",
              "\n",
              "    .dataframe thead th {\n",
              "        text-align: right;\n",
              "    }\n",
              "</style>\n",
              "<table border=\"1\" class=\"dataframe\">\n",
              "  <thead>\n",
              "    <tr style=\"text-align: right;\">\n",
              "      <th></th>\n",
              "      <th>Pregnancies</th>\n",
              "      <th>Glucose</th>\n",
              "      <th>BloodPressure</th>\n",
              "      <th>SkinThickness</th>\n",
              "      <th>Insulin</th>\n",
              "      <th>BMI</th>\n",
              "      <th>DiabetesPedigreeFunction</th>\n",
              "      <th>Age</th>\n",
              "      <th>Outcome</th>\n",
              "    </tr>\n",
              "  </thead>\n",
              "  <tbody>\n",
              "    <tr>\n",
              "      <th>763</th>\n",
              "      <td>10</td>\n",
              "      <td>101</td>\n",
              "      <td>76</td>\n",
              "      <td>48</td>\n",
              "      <td>180</td>\n",
              "      <td>32.9</td>\n",
              "      <td>0.171</td>\n",
              "      <td>63</td>\n",
              "      <td>0</td>\n",
              "    </tr>\n",
              "    <tr>\n",
              "      <th>764</th>\n",
              "      <td>2</td>\n",
              "      <td>122</td>\n",
              "      <td>70</td>\n",
              "      <td>27</td>\n",
              "      <td>0</td>\n",
              "      <td>36.8</td>\n",
              "      <td>0.340</td>\n",
              "      <td>27</td>\n",
              "      <td>0</td>\n",
              "    </tr>\n",
              "    <tr>\n",
              "      <th>765</th>\n",
              "      <td>5</td>\n",
              "      <td>121</td>\n",
              "      <td>72</td>\n",
              "      <td>23</td>\n",
              "      <td>112</td>\n",
              "      <td>26.2</td>\n",
              "      <td>0.245</td>\n",
              "      <td>30</td>\n",
              "      <td>0</td>\n",
              "    </tr>\n",
              "    <tr>\n",
              "      <th>766</th>\n",
              "      <td>1</td>\n",
              "      <td>126</td>\n",
              "      <td>60</td>\n",
              "      <td>0</td>\n",
              "      <td>0</td>\n",
              "      <td>30.1</td>\n",
              "      <td>0.349</td>\n",
              "      <td>47</td>\n",
              "      <td>1</td>\n",
              "    </tr>\n",
              "    <tr>\n",
              "      <th>767</th>\n",
              "      <td>1</td>\n",
              "      <td>93</td>\n",
              "      <td>70</td>\n",
              "      <td>31</td>\n",
              "      <td>0</td>\n",
              "      <td>30.4</td>\n",
              "      <td>0.315</td>\n",
              "      <td>23</td>\n",
              "      <td>0</td>\n",
              "    </tr>\n",
              "  </tbody>\n",
              "</table>\n",
              "</div>\n",
              "      <button class=\"colab-df-convert\" onclick=\"convertToInteractive('df-2462c394-59b8-47d9-9f23-9badae7db4c7')\"\n",
              "              title=\"Convert this dataframe to an interactive table.\"\n",
              "              style=\"display:none;\">\n",
              "        \n",
              "  <svg xmlns=\"http://www.w3.org/2000/svg\" height=\"24px\"viewBox=\"0 0 24 24\"\n",
              "       width=\"24px\">\n",
              "    <path d=\"M0 0h24v24H0V0z\" fill=\"none\"/>\n",
              "    <path d=\"M18.56 5.44l.94 2.06.94-2.06 2.06-.94-2.06-.94-.94-2.06-.94 2.06-2.06.94zm-11 1L8.5 8.5l.94-2.06 2.06-.94-2.06-.94L8.5 2.5l-.94 2.06-2.06.94zm10 10l.94 2.06.94-2.06 2.06-.94-2.06-.94-.94-2.06-.94 2.06-2.06.94z\"/><path d=\"M17.41 7.96l-1.37-1.37c-.4-.4-.92-.59-1.43-.59-.52 0-1.04.2-1.43.59L10.3 9.45l-7.72 7.72c-.78.78-.78 2.05 0 2.83L4 21.41c.39.39.9.59 1.41.59.51 0 1.02-.2 1.41-.59l7.78-7.78 2.81-2.81c.8-.78.8-2.07 0-2.86zM5.41 20L4 18.59l7.72-7.72 1.47 1.35L5.41 20z\"/>\n",
              "  </svg>\n",
              "      </button>\n",
              "      \n",
              "  <style>\n",
              "    .colab-df-container {\n",
              "      display:flex;\n",
              "      flex-wrap:wrap;\n",
              "      gap: 12px;\n",
              "    }\n",
              "\n",
              "    .colab-df-convert {\n",
              "      background-color: #E8F0FE;\n",
              "      border: none;\n",
              "      border-radius: 50%;\n",
              "      cursor: pointer;\n",
              "      display: none;\n",
              "      fill: #1967D2;\n",
              "      height: 32px;\n",
              "      padding: 0 0 0 0;\n",
              "      width: 32px;\n",
              "    }\n",
              "\n",
              "    .colab-df-convert:hover {\n",
              "      background-color: #E2EBFA;\n",
              "      box-shadow: 0px 1px 2px rgba(60, 64, 67, 0.3), 0px 1px 3px 1px rgba(60, 64, 67, 0.15);\n",
              "      fill: #174EA6;\n",
              "    }\n",
              "\n",
              "    [theme=dark] .colab-df-convert {\n",
              "      background-color: #3B4455;\n",
              "      fill: #D2E3FC;\n",
              "    }\n",
              "\n",
              "    [theme=dark] .colab-df-convert:hover {\n",
              "      background-color: #434B5C;\n",
              "      box-shadow: 0px 1px 3px 1px rgba(0, 0, 0, 0.15);\n",
              "      filter: drop-shadow(0px 1px 2px rgba(0, 0, 0, 0.3));\n",
              "      fill: #FFFFFF;\n",
              "    }\n",
              "  </style>\n",
              "\n",
              "      <script>\n",
              "        const buttonEl =\n",
              "          document.querySelector('#df-2462c394-59b8-47d9-9f23-9badae7db4c7 button.colab-df-convert');\n",
              "        buttonEl.style.display =\n",
              "          google.colab.kernel.accessAllowed ? 'block' : 'none';\n",
              "\n",
              "        async function convertToInteractive(key) {\n",
              "          const element = document.querySelector('#df-2462c394-59b8-47d9-9f23-9badae7db4c7');\n",
              "          const dataTable =\n",
              "            await google.colab.kernel.invokeFunction('convertToInteractive',\n",
              "                                                     [key], {});\n",
              "          if (!dataTable) return;\n",
              "\n",
              "          const docLinkHtml = 'Like what you see? Visit the ' +\n",
              "            '<a target=\"_blank\" href=https://colab.research.google.com/notebooks/data_table.ipynb>data table notebook</a>'\n",
              "            + ' to learn more about interactive tables.';\n",
              "          element.innerHTML = '';\n",
              "          dataTable['output_type'] = 'display_data';\n",
              "          await google.colab.output.renderOutput(dataTable, element);\n",
              "          const docLink = document.createElement('div');\n",
              "          docLink.innerHTML = docLinkHtml;\n",
              "          element.appendChild(docLink);\n",
              "        }\n",
              "      </script>\n",
              "    </div>\n",
              "  </div>\n",
              "  "
            ]
          },
          "metadata": {},
          "execution_count": 4
        }
      ]
    },
    {
      "cell_type": "code",
      "metadata": {
        "id": "x3sfP6y2hgIS",
        "colab": {
          "base_uri": "https://localhost:8080/"
        },
        "outputId": "43a4c34f-31c5-4bc5-dd71-34ded4cfacb8"
      },
      "source": [
        "# Checking number of rows and columns\n",
        "df.shape"
      ],
      "execution_count": 5,
      "outputs": [
        {
          "output_type": "execute_result",
          "data": {
            "text/plain": [
              "(768, 9)"
            ]
          },
          "metadata": {},
          "execution_count": 5
        }
      ]
    },
    {
      "cell_type": "code",
      "metadata": {
        "id": "AovarG6Bhk4y",
        "colab": {
          "base_uri": "https://localhost:8080/"
        },
        "outputId": "1db675a7-ebc8-479a-f246-4808bfefb542"
      },
      "source": [
        "# Checking datatypes\n",
        "df.info()"
      ],
      "execution_count": 6,
      "outputs": [
        {
          "output_type": "stream",
          "name": "stdout",
          "text": [
            "<class 'pandas.core.frame.DataFrame'>\n",
            "RangeIndex: 768 entries, 0 to 767\n",
            "Data columns (total 9 columns):\n",
            " #   Column                    Non-Null Count  Dtype  \n",
            "---  ------                    --------------  -----  \n",
            " 0   Pregnancies               768 non-null    int64  \n",
            " 1   Glucose                   768 non-null    int64  \n",
            " 2   BloodPressure             768 non-null    int64  \n",
            " 3   SkinThickness             768 non-null    int64  \n",
            " 4   Insulin                   768 non-null    int64  \n",
            " 5   BMI                       768 non-null    float64\n",
            " 6   DiabetesPedigreeFunction  768 non-null    float64\n",
            " 7   Age                       768 non-null    int64  \n",
            " 8   Outcome                   768 non-null    int64  \n",
            "dtypes: float64(2), int64(7)\n",
            "memory usage: 54.1 KB\n"
          ]
        }
      ]
    },
    {
      "cell_type": "markdown",
      "metadata": {
        "id": "sKNcQTasmCgA"
      },
      "source": [
        "Observations:\n",
        "\n",
        "*   The are 768 observations in the dataset.\n",
        "*   The dataset has 9 features.\n",
        "*   All the features are numerical.\n",
        "\n"
      ]
    },
    {
      "cell_type": "markdown",
      "metadata": {
        "id": "ckfufNrcUHeH"
      },
      "source": [
        "## 3. External Data Source Validation"
      ]
    },
    {
      "cell_type": "markdown",
      "metadata": {
        "id": "6L4sl_0WXlbg"
      },
      "source": [
        "The provided dataset matches the one on Kaggle. It has enough features to help in developing a machine learning model that can predict employee promotions."
      ]
    },
    {
      "cell_type": "markdown",
      "metadata": {
        "id": "FlBMxEDBUc9B"
      },
      "source": [
        "## 4. Data Preparation"
      ]
    },
    {
      "cell_type": "markdown",
      "source": [
        "### Data Standardisation"
      ],
      "metadata": {
        "id": "3R12ITECzhLt"
      }
    },
    {
      "cell_type": "code",
      "source": [
        "# Standardise column names\n",
        "# ---\n",
        "# Convert column names to lowercase \n",
        "df.columns = df.columns.str.lower()\n",
        "df.columns"
      ],
      "metadata": {
        "colab": {
          "base_uri": "https://localhost:8080/"
        },
        "id": "AcHQpS8xzrDF",
        "outputId": "d31b8475-c6c8-4b1b-d1a9-95a6d0f12561"
      },
      "execution_count": 7,
      "outputs": [
        {
          "output_type": "execute_result",
          "data": {
            "text/plain": [
              "Index(['pregnancies', 'glucose', 'bloodpressure', 'skinthickness', 'insulin',\n",
              "       'bmi', 'diabetespedigreefunction', 'age', 'outcome'],\n",
              "      dtype='object')"
            ]
          },
          "metadata": {},
          "execution_count": 7
        }
      ]
    },
    {
      "cell_type": "markdown",
      "metadata": {
        "id": "YNtWOlYAkcO_"
      },
      "source": [
        "### Data Cleaning"
      ]
    },
    {
      "cell_type": "markdown",
      "source": [
        "#### Missing Data"
      ],
      "metadata": {
        "id": "nocqWsTV5UcU"
      }
    },
    {
      "cell_type": "code",
      "metadata": {
        "id": "YYxrLT0GiQSc",
        "colab": {
          "base_uri": "https://localhost:8080/"
        },
        "outputId": "2749324d-6066-441d-b5bd-4b350fced61d"
      },
      "source": [
        "# Checking missing entries of all the variables\n",
        "# ---\n",
        "# \n",
        "df.isnull().sum()"
      ],
      "execution_count": 8,
      "outputs": [
        {
          "output_type": "execute_result",
          "data": {
            "text/plain": [
              "pregnancies                 0\n",
              "glucose                     0\n",
              "bloodpressure               0\n",
              "skinthickness               0\n",
              "insulin                     0\n",
              "bmi                         0\n",
              "diabetespedigreefunction    0\n",
              "age                         0\n",
              "outcome                     0\n",
              "dtype: int64"
            ]
          },
          "metadata": {},
          "execution_count": 8
        }
      ]
    },
    {
      "cell_type": "markdown",
      "source": [
        "It appears there is no missing values. I will dig deeper to determine if missing values have been assigned zeros. I will do this for all columns except the *pregnancies* and *outcome* columns"
      ],
      "metadata": {
        "id": "Dl1H9eh1MZh3"
      }
    },
    {
      "cell_type": "code",
      "source": [
        "# Rows with 0's \n",
        "df_zeroes = df[(df['glucose']==0) | (df['bloodpressure']==0) | (df['skinthickness']==0) | (df['insulin']==0) | (df['bmi']==0) | (df['diabetespedigreefunction']==0) | (df['age']==0)]\n",
        "df_zeroes.shape"
      ],
      "metadata": {
        "colab": {
          "base_uri": "https://localhost:8080/"
        },
        "id": "hvcFdh9VBCHt",
        "outputId": "9b6d6528-fd28-41df-9c9f-d5811b14eb77"
      },
      "execution_count": 9,
      "outputs": [
        {
          "output_type": "execute_result",
          "data": {
            "text/plain": [
              "(376, 9)"
            ]
          },
          "metadata": {},
          "execution_count": 9
        }
      ]
    },
    {
      "cell_type": "markdown",
      "source": [
        "376 observations have zeroes representing missing values. I will replace these missing values with NaN, which will help in their imputation."
      ],
      "metadata": {
        "id": "TipG-oP_P6-X"
      }
    },
    {
      "cell_type": "code",
      "source": [
        "# Copy of the dataframe\n",
        "# df_copy = df.copy(deep = True)\n",
        "# Replace 0's with NaN\n",
        "df[['glucose','bloodpressure','skinthickness','insulin','bmi']] = df[['glucose','bloodpressure','skinthickness','insulin','bmi']].replace(0,np.NaN)\n",
        "\n",
        "# Count of NANs\n",
        "df.isnull().sum()"
      ],
      "metadata": {
        "colab": {
          "base_uri": "https://localhost:8080/"
        },
        "id": "cA4pnHe6QUtV",
        "outputId": "c8cca04a-fcfb-4144-b70b-495f6bfb3db0"
      },
      "execution_count": 10,
      "outputs": [
        {
          "output_type": "execute_result",
          "data": {
            "text/plain": [
              "pregnancies                   0\n",
              "glucose                       5\n",
              "bloodpressure                35\n",
              "skinthickness               227\n",
              "insulin                     374\n",
              "bmi                          11\n",
              "diabetespedigreefunction      0\n",
              "age                           0\n",
              "outcome                       0\n",
              "dtype: int64"
            ]
          },
          "metadata": {},
          "execution_count": 10
        }
      ]
    },
    {
      "cell_type": "markdown",
      "source": [
        "I will impute the missing values of the column with the mean value of that particular column."
      ],
      "metadata": {
        "id": "BhzJrNJ3T8cN"
      }
    },
    {
      "cell_type": "code",
      "source": [
        "columns_to_impute = ['glucose','bloodpressure','skinthickness','insulin','bmi']\n",
        "for col in columns_to_impute:\n",
        "  df[col].fillna(df[col].mean(), inplace = True)\n",
        "df.isnull().sum()"
      ],
      "metadata": {
        "colab": {
          "base_uri": "https://localhost:8080/"
        },
        "id": "s13TiqboUMQN",
        "outputId": "161d3bdf-727b-477b-c5fa-6251439e07e8"
      },
      "execution_count": 11,
      "outputs": [
        {
          "output_type": "execute_result",
          "data": {
            "text/plain": [
              "pregnancies                 0\n",
              "glucose                     0\n",
              "bloodpressure               0\n",
              "skinthickness               0\n",
              "insulin                     0\n",
              "bmi                         0\n",
              "diabetespedigreefunction    0\n",
              "age                         0\n",
              "outcome                     0\n",
              "dtype: int64"
            ]
          },
          "metadata": {},
          "execution_count": 11
        }
      ]
    },
    {
      "cell_type": "markdown",
      "source": [
        "#### Duplicate data"
      ],
      "metadata": {
        "id": "ICn1Irlb5LWy"
      }
    },
    {
      "cell_type": "code",
      "source": [
        "# Find the total duplicate records\n",
        "df.duplicated().sum()"
      ],
      "metadata": {
        "colab": {
          "base_uri": "https://localhost:8080/"
        },
        "id": "dvpfHp1x7gbT",
        "outputId": "48bc7514-5fc6-4892-9c54-f90821277e9b"
      },
      "execution_count": 12,
      "outputs": [
        {
          "output_type": "execute_result",
          "data": {
            "text/plain": [
              "0"
            ]
          },
          "metadata": {},
          "execution_count": 12
        }
      ]
    },
    {
      "cell_type": "markdown",
      "source": [
        "There are no duplicate records."
      ],
      "metadata": {
        "id": "AoJ1cPeGXCdH"
      }
    },
    {
      "cell_type": "markdown",
      "metadata": {
        "id": "vTbdjSrhVIiT"
      },
      "source": [
        "## 5. Data Modelling"
      ]
    },
    {
      "cell_type": "markdown",
      "source": [
        "### Splitting the dataset"
      ],
      "metadata": {
        "id": "5WPSMJuOYXSs"
      }
    },
    {
      "cell_type": "markdown",
      "metadata": {
        "id": "PdHyc8WYHlAG"
      },
      "source": [
        "I will split the dataset to have 75% data for training and 25% for testing"
      ]
    },
    {
      "cell_type": "code",
      "source": [
        "df_train, df_valid = train_test_split(df, test_size=0.25, random_state=12345)\n",
        "\n",
        "# Training and Validation features and targets\n",
        "features_train = df_train.drop(['outcome'], axis=1)\n",
        "target_train = df_train['outcome']\n",
        "\n",
        "features_valid = df_valid.drop(['outcome'], axis=1)\n",
        "target_valid = df_valid['outcome']"
      ],
      "metadata": {
        "id": "gfLKb2_LY_Py"
      },
      "execution_count": 13,
      "outputs": []
    },
    {
      "cell_type": "markdown",
      "source": [
        "### Decision Tree Modelling"
      ],
      "metadata": {
        "id": "EyVmfqbfQ0u2"
      }
    },
    {
      "cell_type": "code",
      "source": [
        "dt_model = DecisionTreeClassifier(random_state=12345)\n",
        "\n",
        "# Train the model\n",
        "dt_model.fit(features_train, target_train)\n",
        "\n",
        "# Get model score\n",
        "dt_model_score = dt_model.score(features_valid, target_valid)\n",
        "dt_model_score"
      ],
      "metadata": {
        "colab": {
          "base_uri": "https://localhost:8080/"
        },
        "id": "ocuMT1VBowxw",
        "outputId": "6a893fa1-62d3-4cd1-d7b9-7320746fe06a"
      },
      "execution_count": 23,
      "outputs": [
        {
          "output_type": "execute_result",
          "data": {
            "text/plain": [
              "0.7708333333333334"
            ]
          },
          "metadata": {},
          "execution_count": 23
        }
      ]
    },
    {
      "cell_type": "markdown",
      "source": [
        "### Random Forest Modelling"
      ],
      "metadata": {
        "id": "Tezay_d-IR3V"
      }
    },
    {
      "cell_type": "code",
      "source": [
        "rf_model = RandomForestClassifier(random_state=12345)\n",
        "\n",
        "# Train the model\n",
        "rf_model.fit(features_train, target_train)\n",
        "\n",
        "# Get model score\n",
        "rf_model_score = rf_model.score(features_valid, target_valid)\n",
        "rf_model_score"
      ],
      "metadata": {
        "colab": {
          "base_uri": "https://localhost:8080/"
        },
        "id": "3PrX8IV6IY3V",
        "outputId": "20465cf4-61a3-44b0-8e29-34a62c2fd8b6"
      },
      "execution_count": 19,
      "outputs": [
        {
          "output_type": "execute_result",
          "data": {
            "text/plain": [
              "0.796875"
            ]
          },
          "metadata": {},
          "execution_count": 19
        }
      ]
    },
    {
      "cell_type": "markdown",
      "source": [
        "### Logistic Regression Modelling"
      ],
      "metadata": {
        "id": "MrF43XaCI4cP"
      }
    },
    {
      "cell_type": "code",
      "source": [
        "lr_model = LogisticRegression(random_state=12345, solver='liblinear')\n",
        "\n",
        "# Train the model\n",
        "lr_model.fit(features_train, target_train)\n",
        "\n",
        "# Get model score\n",
        "lr_model_score = lr_model.score(features_valid, target_valid)\n",
        "lr_model_score"
      ],
      "metadata": {
        "colab": {
          "base_uri": "https://localhost:8080/"
        },
        "id": "UNM9RLAsI9z6",
        "outputId": "6382116c-13d7-49f8-8e84-3d24afe4d3a3"
      },
      "execution_count": 21,
      "outputs": [
        {
          "output_type": "execute_result",
          "data": {
            "text/plain": [
              "0.796875"
            ]
          },
          "metadata": {},
          "execution_count": 21
        }
      ]
    },
    {
      "cell_type": "markdown",
      "source": [
        "## 6. Model Evaluation"
      ],
      "metadata": {
        "id": "2Z8aFsbuJ-z-"
      }
    },
    {
      "cell_type": "markdown",
      "source": [
        "* None of the models thus far achieves the required 85% accuracy.\n",
        "* Random forest and Logistic regression models have the highest accuracy each with 79.875%"
      ],
      "metadata": {
        "id": "AL80VMnaKUCh"
      }
    },
    {
      "cell_type": "markdown",
      "source": [
        "## 7. Hyperparameter Tuning"
      ],
      "metadata": {
        "id": "WwCZMUB_KygV"
      }
    },
    {
      "cell_type": "markdown",
      "source": [
        "### Decison Tree"
      ],
      "metadata": {
        "id": "qjMcuUD7M5yx"
      }
    },
    {
      "cell_type": "markdown",
      "source": [
        "I will tune the max_depth hyperparameter"
      ],
      "metadata": {
        "id": "0rcYDXq7aohz"
      }
    },
    {
      "cell_type": "code",
      "source": [
        "from sklearn.metrics import accuracy_score\n",
        "for depth in range(1, 10):\n",
        "    model = DecisionTreeClassifier(random_state=12345, max_depth=depth)\n",
        "    model.fit(features_train, target_train)\n",
        "    predictions_valid = model.predict(features_valid)\n",
        "    print('max_depth =', depth, ': ', end='')\n",
        "    print(model.score(features_valid, target_valid))\n",
        "    #print(accuracy_score(target_valid, predictions_valid))"
      ],
      "metadata": {
        "colab": {
          "base_uri": "https://localhost:8080/"
        },
        "id": "KIxAEKQ3NIlu",
        "outputId": "e9fa4b27-078e-4f51-adc6-e1e32de37976"
      },
      "execution_count": 28,
      "outputs": [
        {
          "output_type": "stream",
          "name": "stdout",
          "text": [
            "max_depth = 1 : 0.7708333333333334\n",
            "max_depth = 2 : 0.7708333333333334\n",
            "max_depth = 3 : 0.765625\n",
            "max_depth = 4 : 0.7395833333333334\n",
            "max_depth = 5 : 0.7760416666666666\n",
            "max_depth = 6 : 0.7760416666666666\n",
            "max_depth = 7 : 0.7239583333333334\n",
            "max_depth = 8 : 0.7395833333333334\n",
            "max_depth = 9 : 0.75\n"
          ]
        }
      ]
    },
    {
      "cell_type": "markdown",
      "source": [
        "### Random Forest"
      ],
      "metadata": {
        "id": "pno0PaIdO4bm"
      }
    },
    {
      "cell_type": "markdown",
      "source": [
        "I will tune the n_estimators parameter"
      ],
      "metadata": {
        "id": "omoc0TG-PHJS"
      }
    },
    {
      "cell_type": "code",
      "source": [
        "for estimator in range(1, 20):\n",
        "    model = RandomForestClassifier(random_state=12345, n_estimators=estimator)\n",
        "    model.fit(features_train, target_train)\n",
        "    valid_score = model.score(features_valid, target_valid)\n",
        "    print('estimators =', estimator, ': ', end='')\n",
        "    print(valid_score)"
      ],
      "metadata": {
        "colab": {
          "base_uri": "https://localhost:8080/"
        },
        "id": "W4cJWYhwO77f",
        "outputId": "7069eaf5-c142-441d-ebbe-19dcf98eac23"
      },
      "execution_count": 30,
      "outputs": [
        {
          "output_type": "stream",
          "name": "stdout",
          "text": [
            "estimators = 1 : 0.7083333333333334\n",
            "estimators = 2 : 0.734375\n",
            "estimators = 3 : 0.734375\n",
            "estimators = 4 : 0.7239583333333334\n",
            "estimators = 5 : 0.7395833333333334\n",
            "estimators = 6 : 0.7552083333333334\n",
            "estimators = 7 : 0.7291666666666666\n",
            "estimators = 8 : 0.75\n",
            "estimators = 9 : 0.7552083333333334\n",
            "estimators = 10 : 0.7447916666666666\n",
            "estimators = 11 : 0.7447916666666666\n",
            "estimators = 12 : 0.7708333333333334\n",
            "estimators = 13 : 0.7864583333333334\n",
            "estimators = 14 : 0.7864583333333334\n",
            "estimators = 15 : 0.7916666666666666\n",
            "estimators = 16 : 0.78125\n",
            "estimators = 17 : 0.8020833333333334\n",
            "estimators = 18 : 0.7864583333333334\n",
            "estimators = 19 : 0.7760416666666666\n"
          ]
        }
      ]
    },
    {
      "cell_type": "markdown",
      "metadata": {
        "id": "cpmGSOOqIMrt"
      },
      "source": [
        "## 6. Summary and Recommendations"
      ]
    },
    {
      "cell_type": "markdown",
      "metadata": {
        "id": "wDn2whdV0Zcg"
      },
      "source": [
        "Below are the findings:\n",
        "\n",
        "1. Even after hyperparameter tuning, no model achieves 85% accuracy.  \n",
        "2. The highest accuracy thus far is 80.21% for a random forest classifier having 17 estimators.\n",
        "\n",
        "\n",
        "\n"
      ]
    }
  ]
}